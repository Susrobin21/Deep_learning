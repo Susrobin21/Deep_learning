{
  "cells": [
    {
      "cell_type": "code",
      "execution_count": 13,
      "metadata": {
        "id": "8wcCCU3NXmPG"
      },
      "outputs": [],
      "source": [
        "import numpy as np"
      ]
    },
    {
      "cell_type": "code",
      "execution_count": 14,
      "metadata": {
        "id": "QtHD58b1Xz6y"
      },
      "outputs": [],
      "source": [
        "Theta=0\n",
        "w=1\n",
        "sum=0\n",
        "a=[[0,0,0],[0,1,0],[1,0,0],[1,1,1]]"
      ]
    },
    {
      "cell_type": "code",
      "execution_count": 15,
      "metadata": {
        "colab": {
          "base_uri": "https://localhost:8080/"
        },
        "id": "ZPc91dUOdisf",
        "outputId": "324f0f0e-ba59-4aa3-a03a-8f2983d28b1b"
      },
      "outputs": [
        {
          "data": {
            "text/plain": [
              "3"
            ]
          },
          "execution_count": 15,
          "metadata": {},
          "output_type": "execute_result"
        }
      ],
      "source": [
        "len(a[0])"
      ]
    },
    {
      "cell_type": "code",
      "execution_count": 16,
      "metadata": {
        "colab": {
          "base_uri": "https://localhost:8080/"
        },
        "id": "0O3nRbYicsmX",
        "outputId": "ba3e91a2-0f2f-4aba-ea3a-b924a174cb3f"
      },
      "outputs": [
        {
          "data": {
            "text/plain": [
              "[0, 0, 0]"
            ]
          },
          "execution_count": 16,
          "metadata": {},
          "output_type": "execute_result"
        }
      ],
      "source": [
        "a[0]"
      ]
    },
    {
      "cell_type": "code",
      "execution_count": 17,
      "metadata": {
        "id": "CC7jsoyoYLwd"
      },
      "outputs": [],
      "source": [
        "def threshold(Theta, sum):\n",
        "  if(Theta==sum):\n",
        "    return 1\n",
        "  else:\n",
        "    return 0"
      ]
    },
    {
      "cell_type": "code",
      "execution_count": 18,
      "metadata": {
        "colab": {
          "base_uri": "https://localhost:8080/"
        },
        "id": "nEAF-oVPYakA",
        "outputId": "06579988-5472-4d0a-d246-7aaea800b97d"
      },
      "outputs": [
        {
          "name": "stdout",
          "output_type": "stream",
          "text": [
            "AND(0,0)=0\n",
            "AND(0,1)=0\n",
            "AND(1,0)=0\n",
            "AND(1,1)=1\n"
          ]
        }
      ],
      "source": [
        "for i in range(len(a)):\n",
        "  sum=0\n",
        "  for j in range(len(a[i])-1):\n",
        "    sum+=a[i][j]*w\n",
        "  print(\"AND({},{})={}\".format(a[i][0],a[i][1], threshold(len(a[i])-1, sum)))"
      ]
    }
  ],
  "metadata": {
    "colab": {
      "provenance": []
    },
    "kernelspec": {
      "display_name": "Python 3",
      "name": "python3"
    },
    "language_info": {
      "codemirror_mode": {
        "name": "ipython",
        "version": 3
      },
      "file_extension": ".py",
      "mimetype": "text/x-python",
      "name": "python",
      "nbconvert_exporter": "python",
      "pygments_lexer": "ipython3",
      "version": "3.10.3"
    }
  },
  "nbformat": 4,
  "nbformat_minor": 0
}
